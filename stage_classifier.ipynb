{
 "cells": [
  {
   "cell_type": "code",
   "execution_count": 2,
   "id": "27e5fbf9-b7a4-4474-be35-a4409936de00",
   "metadata": {},
   "outputs": [
    {
     "name": "stdout",
     "output_type": "stream",
     "text": [
      "Extracting features...\n"
     ]
    },
    {
     "name": "stderr",
     "output_type": "stream",
     "text": [
      "100%|██████████████████████████████████████████████████████████████████████████████| 4500/4500 [01:09<00:00, 64.46it/s]\n"
     ]
    },
    {
     "name": "stdout",
     "output_type": "stream",
     "text": [
      "Organizing images into stages...\n",
      "Done! Images split into stage_1 to stage_4.\n"
     ]
    }
   ],
   "source": [
    "import os\n",
    "import numpy as np\n",
    "from sklearn.cluster import KMeans\n",
    "from sklearn.preprocessing import StandardScaler\n",
    "from PIL import Image\n",
    "import shutil\n",
    "from tqdm import tqdm\n",
    "\n",
    "# Path to colon_aca\n",
    "colon_aca_path = r\"C:\\Users\\bhuva\\Downloads\\colon cancer detection\\LC25000\\Train and Validation Set\\colon_aca\"\n",
    "\n",
    "# Target directory to save stage-wise images\n",
    "output_base = r\"C:\\Users\\bhuva\\Downloads\\colon cancer detection\\LC25000\\staged_colon_aca\"\n",
    "os.makedirs(output_base, exist_ok=True)\n",
    "\n",
    "# Load and process images\n",
    "features = []\n",
    "image_paths = []\n",
    "\n",
    "print(\"Extracting features...\")\n",
    "for fname in tqdm(os.listdir(colon_aca_path)):\n",
    "    if fname.endswith(\".jpeg\") or fname.endswith(\".jpg\") or fname.endswith(\".png\"):\n",
    "        path = os.path.join(colon_aca_path, fname)\n",
    "        try:\n",
    "            img = Image.open(path).convert(\"L\").resize((64, 64))  # grayscale\n",
    "            img_array = np.array(img).flatten()\n",
    "            features.append(img_array)\n",
    "            image_paths.append(path)\n",
    "        except:\n",
    "            continue\n",
    "\n",
    "features = np.array(features)\n",
    "\n",
    "# Normalize\n",
    "scaler = StandardScaler()\n",
    "features_scaled = scaler.fit_transform(features)\n",
    "\n",
    "# KMeans\n",
    "kmeans = KMeans(n_clusters=4, random_state=42)\n",
    "labels = kmeans.fit_predict(features_scaled)\n",
    "\n",
    "# Move files to stage folders\n",
    "print(\"Organizing images into stages...\")\n",
    "for i, label in enumerate(labels):\n",
    "    stage_folder = os.path.join(output_base, f\"stage_{label+1}\")\n",
    "    os.makedirs(stage_folder, exist_ok=True)\n",
    "    shutil.copy(image_paths[i], os.path.join(stage_folder, os.path.basename(image_paths[i])))\n",
    "\n",
    "print(\"Done! Images split into stage_1 to stage_4.\")\n"
   ]
  },
  {
   "cell_type": "code",
   "execution_count": 3,
   "id": "3f2b91ad-8836-469a-a1a6-3c924f8151b3",
   "metadata": {},
   "outputs": [
    {
     "name": "stdout",
     "output_type": "stream",
     "text": [
      "Found 7201 images belonging to 5 classes.\n",
      "Found 1799 images belonging to 5 classes.\n"
     ]
    },
    {
     "name": "stderr",
     "output_type": "stream",
     "text": [
      "C:\\Users\\bhuva\\AppData\\Local\\Programs\\Python\\Python312\\Lib\\site-packages\\keras\\src\\layers\\convolutional\\base_conv.py:107: UserWarning: Do not pass an `input_shape`/`input_dim` argument to a layer. When using Sequential models, prefer using an `Input(shape)` object as the first layer in the model instead.\n",
      "  super().__init__(activity_regularizer=activity_regularizer, **kwargs)\n",
      "C:\\Users\\bhuva\\AppData\\Local\\Programs\\Python\\Python312\\Lib\\site-packages\\keras\\src\\trainers\\data_adapters\\py_dataset_adapter.py:121: UserWarning: Your `PyDataset` class should call `super().__init__(**kwargs)` in its constructor. `**kwargs` can include `workers`, `use_multiprocessing`, `max_queue_size`. Do not pass these arguments to `fit()`, as they will be ignored.\n",
      "  self._warn_if_super_not_called()\n"
     ]
    },
    {
     "name": "stdout",
     "output_type": "stream",
     "text": [
      "Epoch 1/15\n",
      "\u001b[1m226/226\u001b[0m \u001b[32m━━━━━━━━━━━━━━━━━━━━\u001b[0m\u001b[37m\u001b[0m \u001b[1m238s\u001b[0m 1s/step - accuracy: 0.4519 - loss: 3.8127 - val_accuracy: 0.5003 - val_loss: 1.2297\n",
      "Epoch 2/15\n",
      "\u001b[1m226/226\u001b[0m \u001b[32m━━━━━━━━━━━━━━━━━━━━\u001b[0m\u001b[37m\u001b[0m \u001b[1m148s\u001b[0m 654ms/step - accuracy: 0.5038 - loss: 1.2197 - val_accuracy: 0.5081 - val_loss: 1.1526\n",
      "Epoch 3/15\n",
      "\u001b[1m226/226\u001b[0m \u001b[32m━━━━━━━━━━━━━━━━━━━━\u001b[0m\u001b[37m\u001b[0m \u001b[1m149s\u001b[0m 657ms/step - accuracy: 0.5811 - loss: 1.0244 - val_accuracy: 0.6137 - val_loss: 1.0299\n",
      "Epoch 4/15\n",
      "\u001b[1m226/226\u001b[0m \u001b[32m━━━━━━━━━━━━━━━━━━━━\u001b[0m\u001b[37m\u001b[0m \u001b[1m150s\u001b[0m 665ms/step - accuracy: 0.7357 - loss: 0.7180 - val_accuracy: 0.6776 - val_loss: 0.8185\n",
      "Epoch 5/15\n",
      "\u001b[1m226/226\u001b[0m \u001b[32m━━━━━━━━━━━━━━━━━━━━\u001b[0m\u001b[37m\u001b[0m \u001b[1m146s\u001b[0m 646ms/step - accuracy: 0.8551 - loss: 0.4172 - val_accuracy: 0.6937 - val_loss: 0.8727\n",
      "Epoch 6/15\n",
      "\u001b[1m226/226\u001b[0m \u001b[32m━━━━━━━━━━━━━━━━━━━━\u001b[0m\u001b[37m\u001b[0m \u001b[1m146s\u001b[0m 647ms/step - accuracy: 0.9136 - loss: 0.2646 - val_accuracy: 0.6837 - val_loss: 1.0136\n",
      "Epoch 7/15\n",
      "\u001b[1m226/226\u001b[0m \u001b[32m━━━━━━━━━━━━━━━━━━━━\u001b[0m\u001b[37m\u001b[0m \u001b[1m146s\u001b[0m 645ms/step - accuracy: 0.9517 - loss: 0.1549 - val_accuracy: 0.7021 - val_loss: 1.1210\n",
      "Epoch 8/15\n",
      "\u001b[1m226/226\u001b[0m \u001b[32m━━━━━━━━━━━━━━━━━━━━\u001b[0m\u001b[37m\u001b[0m \u001b[1m146s\u001b[0m 647ms/step - accuracy: 0.9721 - loss: 0.0970 - val_accuracy: 0.6865 - val_loss: 1.2033\n",
      "Epoch 9/15\n",
      "\u001b[1m226/226\u001b[0m \u001b[32m━━━━━━━━━━━━━━━━━━━━\u001b[0m\u001b[37m\u001b[0m \u001b[1m146s\u001b[0m 644ms/step - accuracy: 0.9833 - loss: 0.0675 - val_accuracy: 0.6932 - val_loss: 1.4572\n",
      "Epoch 10/15\n",
      "\u001b[1m226/226\u001b[0m \u001b[32m━━━━━━━━━━━━━━━━━━━━\u001b[0m\u001b[37m\u001b[0m \u001b[1m146s\u001b[0m 647ms/step - accuracy: 0.9828 - loss: 0.0575 - val_accuracy: 0.6598 - val_loss: 1.3409\n",
      "Epoch 11/15\n",
      "\u001b[1m226/226\u001b[0m \u001b[32m━━━━━━━━━━━━━━━━━━━━\u001b[0m\u001b[37m\u001b[0m \u001b[1m146s\u001b[0m 644ms/step - accuracy: 0.9884 - loss: 0.0497 - val_accuracy: 0.6943 - val_loss: 1.4082\n",
      "Epoch 12/15\n",
      "\u001b[1m226/226\u001b[0m \u001b[32m━━━━━━━━━━━━━━━━━━━━\u001b[0m\u001b[37m\u001b[0m \u001b[1m147s\u001b[0m 650ms/step - accuracy: 0.9843 - loss: 0.0534 - val_accuracy: 0.6798 - val_loss: 1.3314\n",
      "Epoch 13/15\n",
      "\u001b[1m226/226\u001b[0m \u001b[32m━━━━━━━━━━━━━━━━━━━━\u001b[0m\u001b[37m\u001b[0m \u001b[1m147s\u001b[0m 650ms/step - accuracy: 0.9891 - loss: 0.0408 - val_accuracy: 0.6854 - val_loss: 1.8123\n",
      "Epoch 14/15\n",
      "\u001b[1m226/226\u001b[0m \u001b[32m━━━━━━━━━━━━━━━━━━━━\u001b[0m\u001b[37m\u001b[0m \u001b[1m147s\u001b[0m 651ms/step - accuracy: 0.9928 - loss: 0.0263 - val_accuracy: 0.6921 - val_loss: 1.6136\n",
      "Epoch 15/15\n",
      "\u001b[1m226/226\u001b[0m \u001b[32m━━━━━━━━━━━━━━━━━━━━\u001b[0m\u001b[37m\u001b[0m \u001b[1m146s\u001b[0m 645ms/step - accuracy: 0.9868 - loss: 0.0428 - val_accuracy: 0.6937 - val_loss: 1.5824\n"
     ]
    },
    {
     "name": "stderr",
     "output_type": "stream",
     "text": [
      "WARNING:absl:You are saving your model as an HDF5 file via `model.save()` or `keras.saving.save_model(model)`. This file format is considered legacy. We recommend using instead the native Keras format, e.g. `model.save('my_model.keras')` or `keras.saving.save_model(model, 'my_model.keras')`. \n"
     ]
    },
    {
     "data": {
      "image/png": "[encoded data removed]",
      "text/plain": [
       "<Figure size 640x480 with 1 Axes>"
      ]
     },
     "metadata": {},
     "output_type": "display_data"
    }
   ],
   "source": [
    "from tensorflow.keras.preprocessing.image import ImageDataGenerator\n",
    "from tensorflow.keras.models import Sequential\n",
    "from tensorflow.keras.layers import Conv2D, MaxPooling2D, Flatten, Dense, Dropout\n",
    "import matplotlib.pyplot as plt\n",
    "\n",
    "# Path\n",
    "dataset_path = r\"C:\\Users\\bhuva\\Downloads\\colon cancer detection\\LC25000\\Final_Dataset\"\n",
    "\n",
    "# Image generators\n",
    "datagen = ImageDataGenerator(rescale=1./255, validation_split=0.2)\n",
    "\n",
    "train_gen = datagen.flow_from_directory(\n",
    "    dataset_path,\n",
    "    target_size=(224, 224),\n",
    "    batch_size=32,\n",
    "    class_mode='categorical',\n",
    "    subset='training'\n",
    ")\n",
    "\n",
    "val_gen = datagen.flow_from_directory(\n",
    "    dataset_path,\n",
    "    target_size=(224, 224),\n",
    "    batch_size=32,\n",
    "    class_mode='categorical',\n",
    "    subset='validation'\n",
    ")\n",
    "\n",
    "# Simple CNN (can replace with VGG or ResNet)\n",
    "model = Sequential([\n",
    "    Conv2D(32, (3,3), activation='relu', input_shape=(224,224,3)),\n",
    "    MaxPooling2D(2,2),\n",
    "    Conv2D(64, (3,3), activation='relu'),\n",
    "    MaxPooling2D(2,2),\n",
    "    Flatten(),\n",
    "    Dense(256, activation='relu'),\n",
    "    Dropout(0.5),\n",
    "    Dense(5, activation='softmax')  # 5 classes\n",
    "])\n",
    "\n",
    "model.compile(optimizer='adam', loss='categorical_crossentropy', metrics=['accuracy'])\n",
    "\n",
    "# Train\n",
    "history = model.fit(train_gen, epochs=15, validation_data=val_gen)\n",
    "\n",
    "# Save\n",
    "model.save(\"colorectal_staging_model.h5\")\n",
    "\n",
    "# Plot\n",
    "plt.plot(history.history['accuracy'], label='Train Acc')\n",
    "plt.plot(history.history['val_accuracy'], label='Val Acc')\n",
    "plt.title('Training Accuracy')\n",
    "plt.legend()\n",
    "plt.show()\n"
   ]
  },
  {
   "cell_type": "code",
   "execution_count": 10,
   "id": "d5da9d9b-55fd-4d9b-b2df-64a8faf48344",
   "metadata": {},
   "outputs": [
    {
     "name": "stderr",
     "output_type": "stream",
     "text": [
      "WARNING:absl:Compiled the loaded model, but the compiled metrics have yet to be built. `model.compile_metrics` will be empty until you train or evaluate the model.\n"
     ]
    },
    {
     "name": "stdout",
     "output_type": "stream",
     "text": [
      "\u001b[1m1/1\u001b[0m \u001b[32m━━━━━━━━━━━━━━━━━━━━\u001b[0m\u001b[37m\u001b[0m \u001b[1m0s\u001b[0m 67ms/step\n"
     ]
    }
   ],
   "source": [
    "import tkinter as tk\n",
    "from tkinter import filedialog, scrolledtext\n",
    "from PIL import Image, ImageTk\n",
    "import numpy as np\n",
    "from tensorflow.keras.models import load_model\n",
    "from tensorflow.keras.preprocessing.image import load_img, img_to_array\n",
    "\n",
    "# Load model\n",
    "model = load_model(\"colorectal_staging_model.h5\")\n",
    "\n",
    "# Class labels\n",
    "class_labels = [\"No Cancer\", \"Stage 1\", \"Stage 2\", \"Stage 3\", \"Stage 4\"]\n",
    "\n",
    "# Explanations\n",
    "explanations = {\n",
    "    \"No Cancer\": \"No signs of cancer detected in the colon tissue. Regular checkups are still recommended.\",\n",
    "    \"Stage 1\": \"Small tumor in the colon wall. High recovery chance. Usually treatable with surgery.\",\n",
    "    \"Stage 2\": \"Tumor has grown through colon wall but not reached lymph nodes. May require chemo post-surgery.\",\n",
    "    \"Stage 3\": \"Cancer has spread to nearby lymph nodes. Needs surgery and chemotherapy.\",\n",
    "    \"Stage 4\": \"Cancer has spread to distant organs like liver or lungs. Focus is on control and quality of life.\"\n",
    "}\n",
    "\n",
    "# Doctor recommendations\n",
    "doctor_recommendations = {\n",
    "    \"No Cancer\": \"🩺 Recommendation: Maintain a healthy lifestyle. Screening every 5–10 years.\",\n",
    "    \"Stage 1\": \"🩺 Recommendation: Surgical removal is typically effective. Monitor regularly.\",\n",
    "    \"Stage 2\": \"🩺 Recommendation: Surgery followed by chemotherapy may be required.\",\n",
    "    \"Stage 3\": \"🩺 Recommendation: Intensive treatment including surgery and chemotherapy. Regular imaging.\",\n",
    "    \"Stage 4\": \"🩺 Recommendation: Advanced care with systemic therapy. Palliative support recommended.\"\n",
    "}\n",
    "\n",
    "# Fade-in animation\n",
    "def fade_in_text(widget, text, delay=30):\n",
    "    widget.config(text=\"\")\n",
    "    def _fade(i=0):\n",
    "        if i <= len(text):\n",
    "            widget.config(text=text[:i])\n",
    "            widget.after(delay, lambda: _fade(i + 1))\n",
    "    _fade()\n",
    "\n",
    "# Prediction function\n",
    "def predict_image():\n",
    "    file_path = filedialog.askopenfilename()\n",
    "    if file_path:\n",
    "        img = load_img(file_path, target_size=(224, 224))\n",
    "        img_array = img_to_array(img) / 255.0\n",
    "        img_array = np.expand_dims(img_array, axis=0)\n",
    "        pred = model.predict(img_array)\n",
    "        class_index = np.argmax(pred[0])\n",
    "        result = class_labels[class_index]\n",
    "\n",
    "        # Update GUI with animation\n",
    "        fade_in_text(result_label, f\"Prediction: {result}\")\n",
    "        fade_in_text(explanation_label, f\"Explanation: {explanations[result]}\")\n",
    "        fade_in_text(recommendation_label, f\"{doctor_recommendations[result]}\")\n",
    "\n",
    "        # Show image\n",
    "        img_disp = Image.open(file_path).resize((220, 220))\n",
    "        img_tk = ImageTk.PhotoImage(img_disp)\n",
    "        image_label.config(image=img_tk)\n",
    "        image_label.image = img_tk\n",
    "\n",
    "# Main GUI\n",
    "root = tk.Tk()\n",
    "root.title(\"Colorectal Cancer Stage Detector\")\n",
    "root.geometry(\"700x720\")\n",
    "root.configure(bg=\"#e8f0fe\")\n",
    "\n",
    "title = tk.Label(root, text=\"Colorectal Cancer Stage Detector\", font=(\"Helvetica\", 20, \"bold\"), bg=\"#e8f0fe\", fg=\"#2c3e50\")\n",
    "title.pack(pady=20)\n",
    "\n",
    "upload_btn = tk.Button(root, text=\"Upload Image\", command=predict_image, font=(\"Helvetica\", 14), bg=\"#3498db\", fg=\"white\", padx=20, pady=5)\n",
    "upload_btn.pack(pady=10)\n",
    "\n",
    "image_label = tk.Label(root, bg=\"#e8f0fe\")\n",
    "image_label.pack(pady=10)\n",
    "\n",
    "result_label = tk.Label(root, text=\"\", bg=\"#e8f0fe\", font=(\"Helvetica\", 16, \"bold\"), fg=\"#e74c3c\")\n",
    "result_label.pack(pady=5)\n",
    "\n",
    "explanation_label = tk.Label(root, text=\"\", bg=\"#e8f0fe\", font=(\"Helvetica\", 12), wraplength=600, justify=\"left\")\n",
    "explanation_label.pack(padx=20, pady=10)\n",
    "\n",
    "recommendation_label = tk.Label(root, text=\"\", bg=\"#e8f0fe\", font=(\"Helvetica\", 12), wraplength=600, justify=\"left\", fg=\"#2d3436\")\n",
    "recommendation_label.pack(padx=20, pady=10)\n",
    "\n",
    "footer = tk.Label(root, text=\"Powered by Deep Learning | Presentation Mode\", bg=\"#e8f0fe\", fg=\"gray\", font=(\"Helvetica\", 10))\n",
    "footer.pack(side=\"bottom\", pady=10)\n",
    "\n",
    "root.mainloop()\n"
   ]
  },
  {
   "cell_type": "code",
   "execution_count": 14,
   "id": "0eb326e2-9cfa-4be7-bda3-14ba19c1d645",
   "metadata": {},
   "outputs": [
    {
     "data": {
      "image/png": "[encoded data removed]",
      "text/plain": [
       "<Figure size 800x600 with 1 Axes>"
      ]
     },
     "metadata": {},
     "output_type": "display_data"
    }
   ],
   "source": [
    "import os\n",
    "from collections import Counter\n",
    "\n",
    "train_dir = r\"C:\\Users\\bhuva\\Downloads\\colon cancer detection\\LC25000\\Final_Dataset\"\n",
    "class_counts = {cls: len(os.listdir(os.path.join(train_dir, cls))) for cls in os.listdir(train_dir)}\n",
    "\n",
    "plt.figure(figsize=(8, 6))\n",
    "plt.bar(class_counts.keys(), class_counts.values(), color='skyblue')\n",
    "plt.title(\"Class Distribution in Training Data\")\n",
    "plt.xlabel(\"Class\")\n",
    "plt.ylabel(\"Number of Images\")\n",
    "plt.savefig(\"class_distribution.png\")\n",
    "plt.show()\n"
   ]
  },
  {
   "cell_type": "code",
   "execution_count": null,
   "id": "776de03c-ea56-4717-b568-bb680966c92c",
   "metadata": {},
   "outputs": [],
   "source": []
  }
 ],
 "metadata": {
  "kernelspec": {
   "display_name": "Python 3 (ipykernel)",
   "language": "python",
   "name": "python3"
  },
  "language_info": {
   "codemirror_mode": {
    "name": "ipython",
    "version": 3
   },
   "file_extension": ".py",
   "mimetype": "text/x-python",
   "name": "python",
   "nbconvert_exporter": "python",
   "pygments_lexer": "ipython3",
   "version": "3.12.0"
  }
 },
 "nbformat": 4,
 "nbformat_minor": 5
}
